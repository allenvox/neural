{
 "cells": [
  {
   "cell_type": "markdown",
   "metadata": {},
   "source": [
    "# Homework 01 \n",
    "1. Numpy \n",
    "2. Pytorch (tensor (basic operations))"
   ]
  },
  {
   "cell_type": "markdown",
   "metadata": {},
   "source": [
    "# DEADLINE\n",
    "\n",
    "### IS-142 - 08.10.24 \n",
    "### IS-141 - 15.10.24"
   ]
  },
  {
   "cell_type": "markdown",
   "metadata": {},
   "source": [
    "## Блок №1 (numpy) "
   ]
  },
  {
   "cell_type": "markdown",
   "metadata": {},
   "source": [
    "1. Импортировать NumPy под именем np"
   ]
  },
  {
   "cell_type": "code",
   "execution_count": 25,
   "metadata": {},
   "outputs": [],
   "source": [
    "import numpy as np"
   ]
  },
  {
   "cell_type": "markdown",
   "metadata": {},
   "source": [
    "2. Создать вектор (одномерный массив) размера 20, заполненный нулями"
   ]
  },
  {
   "cell_type": "code",
   "execution_count": 26,
   "metadata": {},
   "outputs": [
    {
     "data": {
      "text/plain": [
       "array([0., 0., 0., 0., 0., 0., 0., 0., 0., 0., 0., 0., 0., 0., 0., 0., 0.,\n",
       "       0., 0., 0.])"
      ]
     },
     "execution_count": 26,
     "metadata": {},
     "output_type": "execute_result"
    }
   ],
   "source": [
    "v = np.zeros(20)\n",
    "v"
   ]
  },
  {
   "cell_type": "markdown",
   "metadata": {},
   "source": [
    "3. Создать вектор размера 20, заполненный числом 1.75"
   ]
  },
  {
   "cell_type": "code",
   "execution_count": 27,
   "metadata": {},
   "outputs": [
    {
     "data": {
      "text/plain": [
       "array([1.75, 1.75, 1.75, 1.75, 1.75, 1.75, 1.75, 1.75, 1.75, 1.75, 1.75,\n",
       "       1.75, 1.75, 1.75, 1.75, 1.75, 1.75, 1.75, 1.75, 1.75])"
      ]
     },
     "execution_count": 27,
     "metadata": {},
     "output_type": "execute_result"
    }
   ],
   "source": [
    "v = np.ones(20) * 1.75\n",
    "v"
   ]
  },
  {
   "cell_type": "markdown",
   "metadata": {},
   "source": [
    "4. Создать вектор со значениями от 4 до 31"
   ]
  },
  {
   "cell_type": "code",
   "execution_count": 94,
   "metadata": {},
   "outputs": [
    {
     "data": {
      "text/plain": [
       "array([ 4,  5,  6,  7,  8,  9, 10, 11, 12, 13, 14, 15, 16, 17, 18, 19, 20,\n",
       "       21, 22, 23, 24, 25, 26, 27, 28, 29, 30, 31])"
      ]
     },
     "execution_count": 94,
     "metadata": {},
     "output_type": "execute_result"
    }
   ],
   "source": [
    "v = np.arange(4, 32)\n",
    "v"
   ]
  },
  {
   "cell_type": "markdown",
   "metadata": {},
   "source": [
    "5. Развернуть вектор (первый становится последним)"
   ]
  },
  {
   "cell_type": "code",
   "execution_count": 95,
   "metadata": {},
   "outputs": [
    {
     "data": {
      "text/plain": [
       "array([31, 30, 29, 28, 27, 26, 25, 24, 23, 22, 21, 20, 19, 18, 17, 16, 15,\n",
       "       14, 13, 12, 11, 10,  9,  8,  7,  6,  5,  4])"
      ]
     },
     "execution_count": 95,
     "metadata": {},
     "output_type": "execute_result"
    }
   ],
   "source": [
    "v[::-1]"
   ]
  },
  {
   "cell_type": "markdown",
   "metadata": {},
   "source": [
    "6. Создать матрицу (двумерный массив) 3x3 со значениями от 1 до 9"
   ]
  },
  {
   "cell_type": "code",
   "execution_count": 96,
   "metadata": {},
   "outputs": [
    {
     "data": {
      "text/plain": [
       "array([[1, 2, 3],\n",
       "       [4, 5, 6],\n",
       "       [7, 8, 9]])"
      ]
     },
     "execution_count": 96,
     "metadata": {},
     "output_type": "execute_result"
    }
   ],
   "source": [
    "m = np.arange(9).reshape(3, 3) + 1\n",
    "m"
   ]
  },
  {
   "cell_type": "markdown",
   "metadata": {},
   "source": [
    "7. Создать 3x3 единичную матрицу"
   ]
  },
  {
   "cell_type": "code",
   "execution_count": 97,
   "metadata": {},
   "outputs": [
    {
     "data": {
      "text/plain": [
       "array([[1., 0., 0.],\n",
       "       [0., 1., 0.],\n",
       "       [0., 0., 1.]])"
      ]
     },
     "execution_count": 97,
     "metadata": {},
     "output_type": "execute_result"
    }
   ],
   "source": [
    "m = np.identity(3)\n",
    "m"
   ]
  },
  {
   "cell_type": "markdown",
   "metadata": {},
   "source": [
    "8. Создать 4x4 пустую матрицу"
   ]
  },
  {
   "cell_type": "code",
   "execution_count": 98,
   "metadata": {},
   "outputs": [
    {
     "data": {
      "text/plain": [
       "array([[0., 0., 0., 0.],\n",
       "       [0., 0., 0., 0.],\n",
       "       [0., 0., 0., 0.],\n",
       "       [0., 0., 0., 0.]])"
      ]
     },
     "execution_count": 98,
     "metadata": {},
     "output_type": "execute_result"
    }
   ],
   "source": [
    "m = np.zeros(16).reshape(4, 4)\n",
    "m"
   ]
  },
  {
   "cell_type": "markdown",
   "metadata": {},
   "source": [
    "9. Создать единичную матрицу 4x4 со сдвигом на единицу вниз относительно главной диагонали"
   ]
  },
  {
   "cell_type": "code",
   "execution_count": 99,
   "metadata": {},
   "outputs": [
    {
     "data": {
      "text/plain": [
       "array([[0., 0., 0., 0.],\n",
       "       [1., 0., 0., 0.],\n",
       "       [0., 1., 0., 0.],\n",
       "       [0., 0., 1., 0.]])"
      ]
     },
     "execution_count": 99,
     "metadata": {},
     "output_type": "execute_result"
    }
   ],
   "source": [
    "m = np.eye(4, k=-1)\n",
    "m"
   ]
  },
  {
   "cell_type": "markdown",
   "metadata": {},
   "source": [
    "10. Создать тензор 3x3x3 со случайными значениями"
   ]
  },
  {
   "cell_type": "code",
   "execution_count": 100,
   "metadata": {},
   "outputs": [
    {
     "data": {
      "text/plain": [
       "array([[[0.98081313, 0.64438323, 0.76666749],\n",
       "        [0.72699573, 0.00982599, 0.59376148],\n",
       "        [0.08346069, 0.82322979, 0.26388481]],\n",
       "\n",
       "       [[0.47108603, 0.85781918, 0.31569949],\n",
       "        [0.14002295, 0.59962434, 0.38176381],\n",
       "        [0.38360741, 0.37015914, 0.84876713]],\n",
       "\n",
       "       [[0.64182964, 0.5759163 , 0.23098222],\n",
       "        [0.39729712, 0.30002003, 0.33520289],\n",
       "        [0.49070854, 0.05243478, 0.66205141]]])"
      ]
     },
     "execution_count": 100,
     "metadata": {},
     "output_type": "execute_result"
    }
   ],
   "source": [
    "t = np.random.random((3, 3, 3))\n",
    "t"
   ]
  },
  {
   "cell_type": "markdown",
   "metadata": {},
   "source": [
    "11. Создать массив 5x5 со случайными значениями, найти минимум и максимум"
   ]
  },
  {
   "cell_type": "code",
   "execution_count": 47,
   "metadata": {},
   "outputs": [
    {
     "data": {
      "text/plain": [
       "(array([[0.22396263, 0.9952618 , 0.68470622, 0.56404335, 0.4722401 ],\n",
       "        [0.89703615, 0.63594232, 0.00543759, 0.93710644, 0.43496406],\n",
       "        [0.02392361, 0.37601843, 0.70333953, 0.14241446, 0.95590988],\n",
       "        [0.07415857, 0.16511831, 0.28451465, 0.85707882, 0.7987108 ],\n",
       "        [0.23396874, 0.51491806, 0.8397648 , 0.87590824, 0.20953132]]),\n",
       " 0.005437588114210912,\n",
       " 0.995261795370718)"
      ]
     },
     "execution_count": 47,
     "metadata": {},
     "output_type": "execute_result"
    }
   ],
   "source": [
    "v = np.random.random((5, 5))\n",
    "v, v.min(), v.max()"
   ]
  },
  {
   "cell_type": "markdown",
   "metadata": {},
   "source": [
    "12. Создать случайный вектор размера 50 и найти среднее значение всех элементов"
   ]
  },
  {
   "cell_type": "code",
   "execution_count": 48,
   "metadata": {},
   "outputs": [
    {
     "data": {
      "text/plain": [
       "(array([0.89614324, 0.07178343, 0.23949833, 0.42922324, 0.59167879,\n",
       "        0.58455765, 0.01564424, 0.50726149, 0.51824202, 0.25853483,\n",
       "        0.00292691, 0.83549008, 0.14299177, 0.43970386, 0.03255122,\n",
       "        0.95763742, 0.94158474, 0.40539911, 0.7268332 , 0.99184879,\n",
       "        0.08116831, 0.56364242, 0.40073073, 0.61318508, 0.25873846,\n",
       "        0.44829571, 0.34766356, 0.93642348, 0.75492341, 0.74552965,\n",
       "        0.40239503, 0.13620655, 0.44957351, 0.55941437, 0.45175348,\n",
       "        0.86823797, 0.37569649, 0.89854795, 0.19386614, 0.33636209,\n",
       "        0.78895103, 0.65860875, 0.550602  , 0.58176526, 0.35483593,\n",
       "        0.47830103, 0.49136431, 0.77936538, 0.06265398, 0.37971744]),\n",
       " 0.49076107751835724)"
      ]
     },
     "execution_count": 48,
     "metadata": {},
     "output_type": "execute_result"
    }
   ],
   "source": [
    "v = np.random.random(50)\n",
    "v, np.mean(v)"
   ]
  },
  {
   "cell_type": "markdown",
   "metadata": {},
   "source": [
    "13. Создать матрицу с 0 внутри, и 1 на границах"
   ]
  },
  {
   "cell_type": "code",
   "execution_count": 101,
   "metadata": {},
   "outputs": [
    {
     "data": {
      "text/plain": [
       "array([[1., 1., 1., 1., 1.],\n",
       "       [1., 0., 0., 0., 1.],\n",
       "       [1., 0., 0., 0., 1.],\n",
       "       [1., 0., 0., 0., 1.],\n",
       "       [1., 1., 1., 1., 1.]])"
      ]
     },
     "execution_count": 101,
     "metadata": {},
     "output_type": "execute_result"
    }
   ],
   "source": [
    "m = np.ones((5, 5))\n",
    "m[1:-1, 1:-1] = 0\n",
    "m"
   ]
  },
  {
   "cell_type": "markdown",
   "metadata": {},
   "source": [
    "14. Создать 5x5 матрицу с 1,2,3,4 под диагональю"
   ]
  },
  {
   "cell_type": "code",
   "execution_count": 102,
   "metadata": {},
   "outputs": [
    {
     "data": {
      "text/plain": [
       "array([[0, 0, 0, 0, 0],\n",
       "       [1, 0, 0, 0, 0],\n",
       "       [0, 2, 0, 0, 0],\n",
       "       [0, 0, 3, 0, 0],\n",
       "       [0, 0, 0, 4, 0]])"
      ]
     },
     "execution_count": 102,
     "metadata": {},
     "output_type": "execute_result"
    }
   ],
   "source": [
    "m = np.diag([1, 2, 3, 4], k=-1)\n",
    "m"
   ]
  },
  {
   "cell_type": "markdown",
   "metadata": {},
   "source": [
    "15. Перемножить матрицы 5x3 и 3x2"
   ]
  },
  {
   "cell_type": "code",
   "execution_count": 39,
   "metadata": {},
   "outputs": [
    {
     "data": {
      "text/plain": [
       "(array([[0.73834423, 0.07533818, 0.73751314],\n",
       "        [0.40021889, 0.489683  , 0.8193449 ],\n",
       "        [0.14081835, 0.53146937, 0.304283  ],\n",
       "        [0.42221428, 0.26028856, 0.35333802],\n",
       "        [0.44893037, 0.67143267, 0.26666174]]),\n",
       " array([[0.04595997, 0.06258868],\n",
       "        [0.64454187, 0.13699877],\n",
       "        [0.10229064, 0.47017925]]),\n",
       " array([[0.15793358, 0.4032966 ],\n",
       "        [0.41782656, 0.47737411],\n",
       "        [0.38015157, 0.22469184],\n",
       "        [0.223315  , 0.22821725],\n",
       "        [0.48067629, 0.24546223]]))"
      ]
     },
     "execution_count": 39,
     "metadata": {},
     "output_type": "execute_result"
    }
   ],
   "source": [
    "A = np.random.random((5, 3))\n",
    "B = np.random.random((3, 2))\n",
    "C = np.dot(A, B)\n",
    "A, B, C"
   ]
  },
  {
   "cell_type": "markdown",
   "metadata": {},
   "source": [
    "16. Создать вектор состоящий из 15 элементов, поменять знак у элементов, значения которых между 6 и 12 "
   ]
  },
  {
   "cell_type": "code",
   "execution_count": 51,
   "metadata": {},
   "outputs": [
    {
     "data": {
      "text/plain": [
       "array([  0,   1,   2,   3,   4,   5,   6,  -7,  -8,  -9, -10, -11,  12,\n",
       "        13,  14])"
      ]
     },
     "execution_count": 51,
     "metadata": {},
     "output_type": "execute_result"
    }
   ],
   "source": [
    "v = np.arange(15)\n",
    "v[(v > 6) & (v < 12)] *= -1\n",
    "v"
   ]
  },
  {
   "cell_type": "markdown",
   "metadata": {},
   "source": [
    "17. Создать 2 матрицы A(3x3) и B(3x3), получить матрицу С путем поэлеметного умножения."
   ]
  },
  {
   "cell_type": "code",
   "execution_count": 41,
   "metadata": {},
   "outputs": [
    {
     "data": {
      "text/plain": [
       "(array([[0.72425235, 0.55197462, 0.95206016],\n",
       "        [0.92892184, 0.04895057, 0.71943451],\n",
       "        [0.66253917, 0.82504207, 0.88074677]]),\n",
       " array([[0.06852257, 0.12017596, 0.32001412],\n",
       "        [0.31604952, 0.97321125, 0.73203979],\n",
       "        [0.76991206, 0.9499254 , 0.2229418 ]]),\n",
       " array([[0.04962763, 0.06633408, 0.3046727 ],\n",
       "        [0.2935853 , 0.04763925, 0.52665469],\n",
       "        [0.5100969 , 0.78372842, 0.19635527]]))"
      ]
     },
     "execution_count": 41,
     "metadata": {},
     "output_type": "execute_result"
    }
   ],
   "source": [
    "A = np.random.random((3, 3))\n",
    "B = np.random.random((3, 3))\n",
    "C = A * B\n",
    "A, B, C"
   ]
  },
  {
   "cell_type": "markdown",
   "metadata": {},
   "source": [
    "18. Найти максимальные и минимальные значения матрицы С по строкам и столбцам"
   ]
  },
  {
   "cell_type": "code",
   "execution_count": 42,
   "metadata": {},
   "outputs": [
    {
     "name": "stdout",
     "output_type": "stream",
     "text": [
      "Min by rows: [0.04962763 0.04763925 0.19635527]\n",
      "Max by rows: [0.3046727  0.52665469 0.78372842]\n",
      "Min by cols: [0.04962763 0.04763925 0.19635527]\n",
      "Max by cols: [0.5100969  0.78372842 0.52665469]\n"
     ]
    }
   ],
   "source": [
    "min_by_rows = C.min(axis=1)\n",
    "max_by_rows = C.max(axis=1)\n",
    "min_by_cols = C.min(axis=0)\n",
    "max_by_cols = C.max(axis=0)\n",
    "print(f\"Min by rows: {min_by_rows}\\nMax by rows: {max_by_rows}\")\n",
    "print(f\"Min by cols: {min_by_cols}\\nMax by cols: {max_by_cols}\")"
   ]
  },
  {
   "cell_type": "markdown",
   "metadata": {},
   "source": [
    "19. Создать вектор со значениями от 0 до 1 c 10 наблюдениями"
   ]
  },
  {
   "cell_type": "code",
   "execution_count": 52,
   "metadata": {},
   "outputs": [
    {
     "data": {
      "text/plain": [
       "array([0.40574202, 0.41815269, 0.42436304, 0.7776159 , 0.13155804,\n",
       "       0.10547867, 0.17388103, 0.85877688, 0.96446387, 0.98873422])"
      ]
     },
     "execution_count": 52,
     "metadata": {},
     "output_type": "execute_result"
    }
   ],
   "source": [
    "v = np.random.random(10)\n",
    "v"
   ]
  },
  {
   "cell_type": "markdown",
   "metadata": {},
   "source": [
    "20. Отсортировать вектор"
   ]
  },
  {
   "cell_type": "code",
   "execution_count": 53,
   "metadata": {},
   "outputs": [
    {
     "data": {
      "text/plain": [
       "array([0.10547867, 0.13155804, 0.17388103, 0.40574202, 0.41815269,\n",
       "       0.42436304, 0.7776159 , 0.85877688, 0.96446387, 0.98873422])"
      ]
     },
     "execution_count": 53,
     "metadata": {},
     "output_type": "execute_result"
    }
   ],
   "source": [
    "np.sort(v)"
   ]
  },
  {
   "cell_type": "markdown",
   "metadata": {},
   "source": [
    "21. Проверить, одинаковы ли 2 numpy массива"
   ]
  },
  {
   "cell_type": "code",
   "execution_count": 103,
   "metadata": {},
   "outputs": [
    {
     "data": {
      "text/plain": [
       "(False, True)"
      ]
     },
     "execution_count": 103,
     "metadata": {},
     "output_type": "execute_result"
    }
   ],
   "source": [
    "a1 = np.random.random(10)\n",
    "a2 = np.random.random(10)\n",
    "a3 = a1\n",
    "np.array_equal(a1, a2), np.array_equal(a1, a3)"
   ]
  },
  {
   "cell_type": "markdown",
   "metadata": {},
   "source": [
    "22. Сделать массив неизменяемым"
   ]
  },
  {
   "cell_type": "code",
   "execution_count": 55,
   "metadata": {},
   "outputs": [
    {
     "ename": "ValueError",
     "evalue": "assignment destination is read-only",
     "output_type": "error",
     "traceback": [
      "\u001b[0;31m---------------------------------------------------------------------------\u001b[0m",
      "\u001b[0;31mValueError\u001b[0m                                Traceback (most recent call last)",
      "Cell \u001b[0;32mIn[55], line 3\u001b[0m\n\u001b[1;32m      1\u001b[0m immut \u001b[38;5;241m=\u001b[39m np\u001b[38;5;241m.\u001b[39mrandom\u001b[38;5;241m.\u001b[39mrandom(\u001b[38;5;241m10\u001b[39m)\n\u001b[1;32m      2\u001b[0m immut\u001b[38;5;241m.\u001b[39mflags\u001b[38;5;241m.\u001b[39mwriteable \u001b[38;5;241m=\u001b[39m \u001b[38;5;28;01mFalse\u001b[39;00m\n\u001b[0;32m----> 3\u001b[0m \u001b[43mimmut\u001b[49m\u001b[43m[\u001b[49m\u001b[38;5;241;43m1\u001b[39;49m\u001b[43m]\u001b[49m \u001b[38;5;241m=\u001b[39m \u001b[38;5;241m0\u001b[39m\n",
      "\u001b[0;31mValueError\u001b[0m: assignment destination is read-only"
     ]
    }
   ],
   "source": [
    "immut = np.random.random(10)\n",
    "immut.flags.writeable = False\n",
    "immut[1] = 0"
   ]
  },
  {
   "cell_type": "markdown",
   "metadata": {},
   "source": [
    "23. Создать случайный вектор из 20 элементов, найти квантиль от 10% и от 80%"
   ]
  },
  {
   "cell_type": "code",
   "execution_count": 56,
   "metadata": {},
   "outputs": [
    {
     "data": {
      "text/plain": [
       "(0.21854186438288234, 0.7300684931338449)"
      ]
     },
     "execution_count": 56,
     "metadata": {},
     "output_type": "execute_result"
    }
   ],
   "source": [
    "v = np.random.random(20)\n",
    "np.quantile(v, 0.1), np.quantile(v, 0.8)"
   ]
  },
  {
   "cell_type": "markdown",
   "metadata": {},
   "source": [
    "24. Создать массив любой размерности состоящий из int и string"
   ]
  },
  {
   "cell_type": "code",
   "execution_count": 46,
   "metadata": {},
   "outputs": [
    {
     "name": "stdout",
     "output_type": "stream",
     "text": [
      "[1 'a' 2 'b']\n"
     ]
    }
   ],
   "source": [
    "mixed = np.array([1, 'a', 2, 'b'], dtype=object)\n",
    "print(mixed)"
   ]
  },
  {
   "cell_type": "markdown",
   "metadata": {},
   "source": [
    "25. Найти минимальное и максимальное значение, принимаемое каждым числовым типом numpy"
   ]
  },
  {
   "cell_type": "code",
   "execution_count": 57,
   "metadata": {},
   "outputs": [
    {
     "name": "stdout",
     "output_type": "stream",
     "text": [
      "Int32 Min: -2147483648, Int32 Max: 2147483647\n",
      "Float32 Min: -3.4028234663852886e+38, Float32 Max: 3.4028234663852886e+38\n"
     ]
    }
   ],
   "source": [
    "int_min = np.iinfo(np.int32).min\n",
    "int_max = np.iinfo(np.int32).max\n",
    "float_min = np.finfo(np.float32).min\n",
    "float_max = np.finfo(np.float32).max\n",
    "print(f\"Int32 Min: {int_min}, Int32 Max: {int_max}\")\n",
    "print(f\"Float32 Min: {float_min}, Float32 Max: {float_max}\")"
   ]
  },
  {
   "cell_type": "markdown",
   "metadata": {},
   "source": [
    "26. Преобразовать массив из float в int"
   ]
  },
  {
   "cell_type": "code",
   "execution_count": 58,
   "metadata": {},
   "outputs": [
    {
     "data": {
      "text/plain": [
       "(array([0.91828669, 1.11155552, 7.56224572, 1.07495286, 6.70543349,\n",
       "        2.84957214, 8.86005516, 6.93037285, 7.48140566, 7.7251224 ]),\n",
       " array([0, 1, 7, 1, 6, 2, 8, 6, 7, 7]))"
      ]
     },
     "execution_count": 58,
     "metadata": {},
     "output_type": "execute_result"
    }
   ],
   "source": [
    "f_v = np.random.random(10) * 10\n",
    "i_v = f_v.astype(int)\n",
    "f_v, i_v"
   ]
  },
  {
   "cell_type": "markdown",
   "metadata": {},
   "source": [
    "27. Отнять среднее из каждой строки в матрице"
   ]
  },
  {
   "cell_type": "code",
   "execution_count": 104,
   "metadata": {},
   "outputs": [
    {
     "data": {
      "text/plain": [
       "(array([[0.85965631, 0.76597205, 0.66913233, 0.13672823, 0.12572228],\n",
       "        [0.84596352, 0.71313169, 0.47677775, 0.1638451 , 0.20629115],\n",
       "        [0.52194328, 0.46457936, 0.25163192, 0.51511978, 0.96646266],\n",
       "        [0.56842546, 0.73313583, 0.08197223, 0.84425068, 0.39170305],\n",
       "        [0.85111305, 0.70305801, 0.3895157 , 0.41017463, 0.44327468]]),\n",
       " array([[ 0.34821407,  0.25452981,  0.15769009, -0.37471401, -0.38571996],\n",
       "        [ 0.36476167,  0.23192985, -0.00442409, -0.31735674, -0.27491069],\n",
       "        [-0.02200413, -0.07936804, -0.29231548, -0.02882762,  0.42251526],\n",
       "        [ 0.04452801,  0.20923838, -0.44192522,  0.32035323, -0.1321944 ],\n",
       "        [ 0.29168583,  0.14363079, -0.16991151, -0.14925259, -0.11615253]]))"
      ]
     },
     "execution_count": 104,
     "metadata": {},
     "output_type": "execute_result"
    }
   ],
   "source": [
    "m = np.random.random((5, 5))\n",
    "m_sub_mean = m - m.mean(axis=1, keepdims=True)\n",
    "m, m_sub_mean"
   ]
  },
  {
   "cell_type": "markdown",
   "metadata": {},
   "source": [
    "28. Считать данные из файла в матрицу:\n",
    "\n",
    "1,2,3,4,5\n",
    "\n",
    "6,,,7,8\n",
    "\n",
    ",,9,10,11"
   ]
  },
  {
   "cell_type": "code",
   "execution_count": 105,
   "metadata": {},
   "outputs": [
    {
     "data": {
      "text/plain": [
       "array([[ 1.,  2.,  3.,  4.,  5.],\n",
       "       [ 6., nan, nan,  7.,  8.],\n",
       "       [nan, nan,  9., 10., 11.]])"
      ]
     },
     "execution_count": 105,
     "metadata": {},
     "output_type": "execute_result"
    }
   ],
   "source": [
    "from io import StringIO\n",
    "data = \"1,2,3,4,5\\n6,,,7,8\\n,,9,10,11\"\n",
    "file_like = StringIO(data)\n",
    "m = np.genfromtxt(file_like, delimiter=',')\n",
    "m"
   ]
  },
  {
   "cell_type": "markdown",
   "metadata": {},
   "source": [
    "29. Посчитайте сумму квадратов натуральных чисел от 1 до 10000."
   ]
  },
  {
   "cell_type": "code",
   "execution_count": 63,
   "metadata": {},
   "outputs": [
    {
     "data": {
      "text/plain": [
       "333383335000"
      ]
     },
     "execution_count": 63,
     "metadata": {},
     "output_type": "execute_result"
    }
   ],
   "source": [
    "np.sum(np.arange(1, 10001) ** 2)"
   ]
  },
  {
   "cell_type": "markdown",
   "metadata": {},
   "source": [
    "## Блок №2 (tensors) "
   ]
  },
  {
   "cell_type": "markdown",
   "metadata": {},
   "source": [
    "1. Импортируйте pytorch"
   ]
  },
  {
   "cell_type": "code",
   "execution_count": 64,
   "metadata": {},
   "outputs": [],
   "source": [
    "import torch"
   ]
  },
  {
   "cell_type": "markdown",
   "metadata": {},
   "source": [
    "2. Создать вектор состящий из 10 элементов"
   ]
  },
  {
   "cell_type": "code",
   "execution_count": 65,
   "metadata": {},
   "outputs": [
    {
     "data": {
      "text/plain": [
       "tensor([0, 1, 2, 3, 4, 5, 6, 7, 8, 9])"
      ]
     },
     "execution_count": 65,
     "metadata": {},
     "output_type": "execute_result"
    }
   ],
   "source": [
    "v = torch.arange(10)\n",
    "v"
   ]
  },
  {
   "cell_type": "markdown",
   "metadata": {},
   "source": [
    "3. Создать тензор из python list"
   ]
  },
  {
   "cell_type": "code",
   "execution_count": 106,
   "metadata": {},
   "outputs": [
    {
     "data": {
      "text/plain": [
       "tensor([1, 2, 3, 4, 5])"
      ]
     },
     "execution_count": 106,
     "metadata": {},
     "output_type": "execute_result"
    }
   ],
   "source": [
    "l = [1, 2, 3, 4, 5]\n",
    "t = torch.tensor(l)\n",
    "t"
   ]
  },
  {
   "cell_type": "markdown",
   "metadata": {},
   "source": [
    "4. Создать тензор из np.array"
   ]
  },
  {
   "cell_type": "code",
   "execution_count": 107,
   "metadata": {},
   "outputs": [
    {
     "data": {
      "text/plain": [
       "tensor([1, 2, 3])"
      ]
     },
     "execution_count": 107,
     "metadata": {},
     "output_type": "execute_result"
    }
   ],
   "source": [
    "a = np.array([1, 2, 3])\n",
    "t = torch.from_numpy(a)\n",
    "t"
   ]
  },
  {
   "cell_type": "markdown",
   "metadata": {},
   "source": [
    "5. Создать тензор с нормальным распределением"
   ]
  },
  {
   "cell_type": "code",
   "execution_count": 108,
   "metadata": {},
   "outputs": [
    {
     "data": {
      "text/plain": [
       "tensor([[-0.5709, -2.3233, -0.5542],\n",
       "        [ 0.1098,  0.0845,  1.8254],\n",
       "        [ 1.2071,  0.0041, -0.4621]])"
      ]
     },
     "execution_count": 108,
     "metadata": {},
     "output_type": "execute_result"
    }
   ],
   "source": [
    "t = torch.randn(3, 3)\n",
    "t"
   ]
  },
  {
   "cell_type": "markdown",
   "metadata": {},
   "source": [
    "6. Создать тензор размером 3х3х3"
   ]
  },
  {
   "cell_type": "code",
   "execution_count": 109,
   "metadata": {},
   "outputs": [
    {
     "data": {
      "text/plain": [
       "tensor([[[ 0.0526,  1.4299, -0.1356],\n",
       "         [-0.9425, -1.3444, -0.5788],\n",
       "         [-0.7768,  1.0004, -1.8233]],\n",
       "\n",
       "        [[-1.4237,  1.9474, -0.3987],\n",
       "         [ 0.5899, -1.7014,  0.0395],\n",
       "         [ 0.9188, -0.9355, -0.0111]],\n",
       "\n",
       "        [[-0.4869,  0.5911, -2.4739],\n",
       "         [-0.8242, -0.2972,  1.2371],\n",
       "         [-1.4110, -0.9487,  1.0955]]])"
      ]
     },
     "execution_count": 109,
     "metadata": {},
     "output_type": "execute_result"
    }
   ],
   "source": [
    "t = torch.randn(3, 3, 3)\n",
    "t"
   ]
  },
  {
   "cell_type": "markdown",
   "metadata": {},
   "source": [
    "7. Создать единичную матрицу размером 4х5"
   ]
  },
  {
   "cell_type": "code",
   "execution_count": 110,
   "metadata": {},
   "outputs": [
    {
     "data": {
      "text/plain": [
       "tensor([[1., 0., 0., 0., 0.],\n",
       "        [0., 1., 0., 0., 0.],\n",
       "        [0., 0., 1., 0., 0.],\n",
       "        [0., 0., 0., 1., 0.]])"
      ]
     },
     "execution_count": 110,
     "metadata": {},
     "output_type": "execute_result"
    }
   ],
   "source": [
    "m = torch.eye(4, 5)\n",
    "m"
   ]
  },
  {
   "cell_type": "markdown",
   "metadata": {},
   "source": [
    "8. Создать вектор размера 25, заполнить елементами со значениме pi"
   ]
  },
  {
   "cell_type": "code",
   "execution_count": 73,
   "metadata": {},
   "outputs": [
    {
     "data": {
      "text/plain": [
       "tensor([3.1416, 3.1416, 3.1416, 3.1416, 3.1416, 3.1416, 3.1416, 3.1416, 3.1416,\n",
       "        3.1416, 3.1416, 3.1416, 3.1416, 3.1416, 3.1416, 3.1416, 3.1416, 3.1416,\n",
       "        3.1416, 3.1416, 3.1416, 3.1416, 3.1416, 3.1416, 3.1416])"
      ]
     },
     "execution_count": 73,
     "metadata": {},
     "output_type": "execute_result"
    }
   ],
   "source": [
    "v = torch.full((25,), torch.pi)\n",
    "v"
   ]
  },
  {
   "cell_type": "markdown",
   "metadata": {},
   "source": [
    "9. Умножить матрицу размера 9, заполненная от 0 до 8, поэлементно на любое число"
   ]
  },
  {
   "cell_type": "code",
   "execution_count": 111,
   "metadata": {},
   "outputs": [
    {
     "data": {
      "text/plain": [
       "tensor([[ 0,  2,  4],\n",
       "        [ 6,  8, 10],\n",
       "        [12, 14, 16]])"
      ]
     },
     "execution_count": 111,
     "metadata": {},
     "output_type": "execute_result"
    }
   ],
   "source": [
    "m = torch.arange(9).reshape(3, 3)\n",
    "m * 2"
   ]
  },
  {
   "cell_type": "markdown",
   "metadata": {},
   "source": [
    "10. Создать произвольный тензор с типом данных int8"
   ]
  },
  {
   "cell_type": "code",
   "execution_count": 112,
   "metadata": {},
   "outputs": [
    {
     "data": {
      "text/plain": [
       "tensor([[  38, -113,   54],\n",
       "        [  94,   26,   23],\n",
       "        [ -56,   37,   79]], dtype=torch.int8)"
      ]
     },
     "execution_count": 112,
     "metadata": {},
     "output_type": "execute_result"
    }
   ],
   "source": [
    "t = torch.randint(-128, 127, (3, 3), dtype=torch.int8)\n",
    "t"
   ]
  },
  {
   "cell_type": "markdown",
   "metadata": {},
   "source": [
    "11. Изменить тип данных из пункта 10 на int64"
   ]
  },
  {
   "cell_type": "code",
   "execution_count": 113,
   "metadata": {},
   "outputs": [
    {
     "data": {
      "text/plain": [
       "tensor([[  38, -113,   54],\n",
       "        [  94,   26,   23],\n",
       "        [ -56,   37,   79]])"
      ]
     },
     "execution_count": 113,
     "metadata": {},
     "output_type": "execute_result"
    }
   ],
   "source": [
    "t = t.to(torch.int64)\n",
    "t"
   ]
  },
  {
   "cell_type": "markdown",
   "metadata": {},
   "source": [
    "12. Создать случайный тензор размера 4x5 и найти среднее по 2му столбцу."
   ]
  },
  {
   "cell_type": "code",
   "execution_count": 114,
   "metadata": {},
   "outputs": [
    {
     "data": {
      "text/plain": [
       "tensor(-0.0432)"
      ]
     },
     "execution_count": 114,
     "metadata": {},
     "output_type": "execute_result"
    }
   ],
   "source": [
    "t = torch.randn(4, 5)\n",
    "t[:, 1].mean()"
   ]
  },
  {
   "cell_type": "markdown",
   "metadata": {},
   "source": [
    "13. Создать пустой тензор произвольных размеров"
   ]
  },
  {
   "cell_type": "code",
   "execution_count": 115,
   "metadata": {},
   "outputs": [
    {
     "data": {
      "text/plain": [
       "tensor([[0., 0., 0.],\n",
       "        [0., 0., 0.],\n",
       "        [0., 0., 0.]])"
      ]
     },
     "execution_count": 115,
     "metadata": {},
     "output_type": "execute_result"
    }
   ],
   "source": [
    "t = torch.empty(3, 3)\n",
    "t"
   ]
  },
  {
   "cell_type": "markdown",
   "metadata": {},
   "source": [
    "14. Скалярно умножить 2 вектора"
   ]
  },
  {
   "cell_type": "code",
   "execution_count": 79,
   "metadata": {},
   "outputs": [
    {
     "data": {
      "text/plain": [
       "(tensor([-0.1522,  0.6546, -2.2158]),\n",
       " tensor([ 0.0989, -0.3107, -0.6497]),\n",
       " tensor(1.2212))"
      ]
     },
     "execution_count": 79,
     "metadata": {},
     "output_type": "execute_result"
    }
   ],
   "source": [
    "v1 = torch.randn(3)\n",
    "v2 = torch.randn(3)\n",
    "v1, v2, torch.dot(v1, v2)"
   ]
  },
  {
   "cell_type": "markdown",
   "metadata": {},
   "source": [
    "15. Умножить матрицу на вектор"
   ]
  },
  {
   "cell_type": "code",
   "execution_count": 80,
   "metadata": {},
   "outputs": [
    {
     "data": {
      "text/plain": [
       "tensor([-0.5214, -2.0414, -0.4453])"
      ]
     },
     "execution_count": 80,
     "metadata": {},
     "output_type": "execute_result"
    }
   ],
   "source": [
    "m = torch.randn(3, 3)\n",
    "v = torch.randn(3)\n",
    "torch.mv(m, v)"
   ]
  },
  {
   "cell_type": "markdown",
   "metadata": {},
   "source": [
    "16. Перемножить 2D матрицы "
   ]
  },
  {
   "cell_type": "code",
   "execution_count": 81,
   "metadata": {},
   "outputs": [
    {
     "data": {
      "text/plain": [
       "(tensor([[ 1.0365, -0.1938, -0.3358],\n",
       "         [ 0.9832,  0.7667, -0.2571],\n",
       "         [ 0.5128,  0.4905,  1.3715]]),\n",
       " tensor([[ 2.0556,  1.1470, -0.4785],\n",
       "         [ 1.6802, -0.0731,  0.2884],\n",
       "         [-0.5335, -1.6660,  1.0897]]),\n",
       " tensor([[ 1.9842,  1.7624, -0.9178],\n",
       "         [ 3.4466,  1.5000, -0.5295],\n",
       "         [ 1.1465, -1.7327,  1.3907]]))"
      ]
     },
     "execution_count": 81,
     "metadata": {},
     "output_type": "execute_result"
    }
   ],
   "source": [
    "m1 = torch.randn(3, 3)\n",
    "m2 = torch.randn(3, 3)\n",
    "m1, m2, torch.mm(m1, m2)"
   ]
  },
  {
   "cell_type": "markdown",
   "metadata": {},
   "source": [
    "17. Перемножить 3D тензоры"
   ]
  },
  {
   "cell_type": "code",
   "execution_count": 82,
   "metadata": {},
   "outputs": [
    {
     "data": {
      "text/plain": [
       "(tensor([[[ 1.5305e-01,  3.4788e-01,  2.0563e-03],\n",
       "          [-1.4021e+00, -1.3216e-01,  9.4837e-01],\n",
       "          [-7.2144e-01, -9.2185e-01, -7.9716e-01]],\n",
       " \n",
       "         [[-7.0347e-01, -6.9835e-01,  1.5531e-01],\n",
       "          [ 1.1448e+00,  7.6270e-01, -2.0976e+00],\n",
       "          [ 5.5873e-01,  1.5169e-01,  8.1130e-01]],\n",
       " \n",
       "         [[-4.0597e-01,  2.4635e-01, -4.7985e-01],\n",
       "          [ 5.2654e-01, -1.0965e+00,  1.4762e+00],\n",
       "          [ 6.1960e-01,  6.1866e-01,  6.5985e-02]]]),\n",
       " tensor([[[-2.1784e+00, -3.3868e-01, -1.6884e+00],\n",
       "          [-1.3358e+00,  9.3327e-01,  1.6494e-03],\n",
       "          [ 1.7165e+00, -1.3496e-01,  2.3726e-01]],\n",
       " \n",
       "         [[ 5.9812e-01,  3.2135e-01, -6.9744e-01],\n",
       "          [-1.3037e+00, -1.2206e+00,  3.6493e-02],\n",
       "          [ 5.0670e-01, -1.4488e+00,  1.1490e+00]],\n",
       " \n",
       "         [[ 1.0053e+00, -3.8710e-01,  1.2252e+00],\n",
       "          [-5.7075e-01, -3.8750e-01, -4.5118e-01],\n",
       "          [ 2.0711e-01, -3.7343e-02,  1.0960e+00]]]),\n",
       " tensor([[[-3.3341e-01, -1.1782e-01, -3.4719e-03],\n",
       "          [ 1.8729e+00, -1.2334e-01,  1.5643e-03],\n",
       "          [-1.2384e+00,  1.2441e-01, -1.8914e-01]],\n",
       " \n",
       "         [[-4.2076e-01, -2.2441e-01, -1.0832e-01],\n",
       "          [-1.4925e+00, -9.3098e-01, -7.6547e-02],\n",
       "          [ 2.8311e-01, -2.1977e-01,  9.3215e-01]],\n",
       " \n",
       "         [[-4.0811e-01, -9.5361e-02, -5.8790e-01],\n",
       "          [-3.0052e-01,  4.2490e-01, -6.6605e-01],\n",
       "          [ 1.2833e-01, -2.3103e-02,  7.2320e-02]]]))"
      ]
     },
     "execution_count": 82,
     "metadata": {},
     "output_type": "execute_result"
    }
   ],
   "source": [
    "t1 = torch.randn(3, 3, 3)\n",
    "t2 = torch.randn(3, 3, 3)\n",
    "t1, t2, t1 * t2"
   ]
  },
  {
   "cell_type": "markdown",
   "metadata": {},
   "source": [
    "18. Создать вектор с нормальным распределением и вывести элементы больше 0.5"
   ]
  },
  {
   "cell_type": "code",
   "execution_count": 83,
   "metadata": {},
   "outputs": [
    {
     "data": {
      "text/plain": [
       "tensor([0.6014, 0.9066, 0.7294])"
      ]
     },
     "execution_count": 83,
     "metadata": {},
     "output_type": "execute_result"
    }
   ],
   "source": [
    "v = torch.randn(10)\n",
    "v[v > 0.5]"
   ]
  },
  {
   "cell_type": "markdown",
   "metadata": {},
   "source": [
    "19. Создать матрицу 3х3 заполненную единицами и заменить 1й столбец на 4"
   ]
  },
  {
   "cell_type": "code",
   "execution_count": 84,
   "metadata": {},
   "outputs": [
    {
     "data": {
      "text/plain": [
       "tensor([[4., 1., 1.],\n",
       "        [4., 1., 1.],\n",
       "        [4., 1., 1.]])"
      ]
     },
     "execution_count": 84,
     "metadata": {},
     "output_type": "execute_result"
    }
   ],
   "source": [
    "m = torch.ones(3, 3)\n",
    "m[:, 0] = 4\n",
    "m"
   ]
  },
  {
   "cell_type": "markdown",
   "metadata": {},
   "source": [
    "20. Создать матрицу и вывести сумму по каждой строке"
   ]
  },
  {
   "cell_type": "code",
   "execution_count": 85,
   "metadata": {},
   "outputs": [
    {
     "data": {
      "text/plain": [
       "tensor([ 2.8169,  0.4715, -0.9179])"
      ]
     },
     "execution_count": 85,
     "metadata": {},
     "output_type": "execute_result"
    }
   ],
   "source": [
    "m = torch.randn(3, 3)\n",
    "m.sum(dim=1)"
   ]
  },
  {
   "cell_type": "markdown",
   "metadata": {},
   "source": [
    "20. Создать матрицу и вывести среднее по каждому столбцу"
   ]
  },
  {
   "cell_type": "code",
   "execution_count": 86,
   "metadata": {},
   "outputs": [
    {
     "data": {
      "text/plain": [
       "tensor([ 0.3038,  1.1936, -0.7072])"
      ]
     },
     "execution_count": 86,
     "metadata": {},
     "output_type": "execute_result"
    }
   ],
   "source": [
    "m.mean(dim=0)"
   ]
  },
  {
   "cell_type": "markdown",
   "metadata": {},
   "source": [
    "21. Создать 2 вектора и сконкатенировать по 1 оси"
   ]
  },
  {
   "cell_type": "code",
   "execution_count": 87,
   "metadata": {},
   "outputs": [
    {
     "data": {
      "text/plain": [
       "tensor([[-0.6190, -0.6860,  1.3188,  0.1347, -0.3523],\n",
       "        [ 1.7197,  1.3446, -0.4745, -1.3977, -1.1771]])"
      ]
     },
     "execution_count": 87,
     "metadata": {},
     "output_type": "execute_result"
    }
   ],
   "source": [
    "v1 = torch.randn(5)\n",
    "v2 = torch.randn(5)\n",
    "torch.cat((v1.unsqueeze(0), v2.unsqueeze(0)), dim=0)"
   ]
  },
  {
   "cell_type": "markdown",
   "metadata": {},
   "source": [
    "22. Перемножим две большие единичные матрицы. \n",
    "Сначал на центральном процессоре, затем попробуйте на GPU"
   ]
  },
  {
   "cell_type": "code",
   "execution_count": 93,
   "metadata": {},
   "outputs": [
    {
     "name": "stdout",
     "output_type": "stream",
     "text": [
      "tensor([[-13.0941,  78.6451, -17.6467,  ...,  46.4466, -14.9382,  10.4500],\n",
      "        [ -2.6750,  -6.2654,  -7.7626,  ..., -33.5780,  32.5051,   7.1309],\n",
      "        [-60.1090,  25.8206, -37.2353,  ...,  -7.6859,  -1.2693,  42.4814],\n",
      "        ...,\n",
      "        [ -7.9530,   0.4959,   9.6289,  ...,  29.0874,  -7.0077,  11.2747],\n",
      "        [ 12.2239,   5.0612, -23.3883,  ...,  12.5764,  15.5697,  15.5738],\n",
      "        [-28.4863,  56.1503,  33.6479,  ..., -33.5866,   5.4467,   5.1504]])\n"
     ]
    }
   ],
   "source": [
    "m1 = torch.randn(1000, 1000)\n",
    "m2 = torch.randn(1000, 1000)\n",
    "print(torch.mm(m1, m2))\n",
    "\n",
    "if torch.cuda.is_available():\n",
    "    m1_cuda = m1.cuda()\n",
    "    m2_cuda = m2.cuda()\n",
    "    gpu_result = torch.mm(m1_cuda, m2_cuda)\n",
    "    print(gpu_result)"
   ]
  }
 ],
 "metadata": {
  "kernelspec": {
   "display_name": "NeuNetwork",
   "language": "python",
   "name": "python3"
  },
  "language_info": {
   "codemirror_mode": {
    "name": "ipython",
    "version": 3
   },
   "file_extension": ".py",
   "mimetype": "text/x-python",
   "name": "python",
   "nbconvert_exporter": "python",
   "pygments_lexer": "ipython3",
   "version": "3.10.10"
  }
 },
 "nbformat": 4,
 "nbformat_minor": 2
}
